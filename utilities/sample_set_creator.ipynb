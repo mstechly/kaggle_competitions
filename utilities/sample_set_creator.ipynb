{
 "cells": [
  {
   "cell_type": "code",
   "execution_count": 16,
   "metadata": {
    "collapsed": true
   },
   "outputs": [],
   "source": [
    "import os, glob, shutil"
   ]
  },
  {
   "cell_type": "code",
   "execution_count": 17,
   "metadata": {
    "collapsed": true
   },
   "outputs": [],
   "source": [
    "def safe_mkdir(path):\n",
    "    \"\"\"\n",
    "    Checks if a directory exists. If not, creates it.\n",
    "    \"\"\"\n",
    "    try:\n",
    "        os.makedirs(path)\n",
    "    except OSError as exc:  # Python >2.5\n",
    "        pass\n",
    "    except AttributeError as exc:\n",
    "        pass\n"
   ]
  },
  {
   "cell_type": "code",
   "execution_count": 18,
   "metadata": {
    "collapsed": true
   },
   "outputs": [],
   "source": [
    "competition_name = 'kaggle_plant_seedlings'\n",
    "path = os.path.join('..', competition_name, 'data') + '/'\n",
    "sample_path = os.path.join(path, \"sample\")\n",
    "\n"
   ]
  },
  {
   "cell_type": "code",
   "execution_count": 19,
   "metadata": {
    "collapsed": true
   },
   "outputs": [],
   "source": [
    "class_paths = glob.glob(os.path.join(path, 'train', '*'))\n",
    "class_names = [class_path.split('/')[-1] for class_path in class_paths]"
   ]
  },
  {
   "cell_type": "code",
   "execution_count": 20,
   "metadata": {
    "collapsed": true
   },
   "outputs": [],
   "source": [
    "sample_size = 20"
   ]
  },
  {
   "cell_type": "code",
   "execution_count": 21,
   "metadata": {
    "collapsed": true
   },
   "outputs": [],
   "source": [
    "for class_name in class_names:\n",
    "    for set_name in [\"train\", \"valid\"]:\n",
    "        file_paths = glob.glob(os.path.join(path, set_name, class_name, \"*\"))\n",
    "        safe_mkdir(os.path.join(sample_path, set_name, class_name))\n",
    "        for file_path in file_paths[:sample_size]:\n",
    "            filename = file_path.split(\"/\")[-1]\n",
    "            shutil.copy(file_path, os.path.join(sample_path, set_name, class_name, filename))\n",
    "\n",
    "file_paths = glob.glob(os.path.join(path, \"test\", \"*\"))\n",
    "safe_mkdir(os.path.join(sample_path, \"test\"))\n",
    "for file_path in file_paths[:sample_size]:\n",
    "    filename = file_path.split(\"/\")[-1]\n",
    "    shutil.copy(file_path, os.path.join(sample_path, \"test\", filename))"
   ]
  },
  {
   "cell_type": "code",
   "execution_count": null,
   "metadata": {
    "collapsed": true
   },
   "outputs": [],
   "source": []
  }
 ],
 "metadata": {
  "kernelspec": {
   "display_name": "venv-fast-ai",
   "language": "python",
   "name": "venv-fast-ai"
  },
  "language_info": {
   "codemirror_mode": {
    "name": "ipython",
    "version": 3
   },
   "file_extension": ".py",
   "mimetype": "text/x-python",
   "name": "python",
   "nbconvert_exporter": "python",
   "pygments_lexer": "ipython3",
   "version": "3.6.4"
  }
 },
 "nbformat": 4,
 "nbformat_minor": 2
}
