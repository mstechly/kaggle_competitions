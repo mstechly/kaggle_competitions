{
 "cells": [
  {
   "cell_type": "markdown",
   "metadata": {},
   "source": [
    "# Plant Seedlings Classification v3\n"
   ]
  },
  {
   "cell_type": "markdown",
   "metadata": {},
   "source": [
    "This is my 3rd approach to this competition.\n",
    "This time I would like to check two methods:\n",
    "1. Checklist from Jeremy Howard (https://github.com/fastai/fastai/blob/master/courses/dl1/lesson1.ipynb)\n",
    "2. Ensemble method from this article: https://techburst.io/improving-the-way-we-work-with-learning-rate-5e99554f163b ."
   ]
  },
  {
   "cell_type": "markdown",
   "metadata": {},
   "source": [
    "## 1. Setup"
   ]
  },
  {
   "cell_type": "code",
   "execution_count": 1,
   "metadata": {},
   "outputs": [],
   "source": [
    "%reload_ext autoreload\n",
    "%autoreload 2\n",
    "%matplotlib inline\n",
    "\n",
    "from fastai.imports import *\n",
    "from fastai.transforms import *\n",
    "from fastai.conv_learner import *\n",
    "from fastai.model import *\n",
    "from fastai.dataset import *\n",
    "from fastai.sgdr import *\n",
    "from fastai.plots import *\n",
    "\n",
    "# PATH = os.path.join('data', 'sample') + '/'\n",
    "PATH = os.path.join('data') + '/'"
   ]
  },
  {
   "cell_type": "markdown",
   "metadata": {},
   "source": [
    "## 2. Jeremy Howard checklist"
   ]
  },
  {
   "cell_type": "markdown",
   "metadata": {},
   "source": [
    "In his 2018 fast.ai course, Jeremy Howard proposed the following method of achieving good results with image recognition using DNN:\n",
    "\n",
    "1. Enable data augmentation, and precompute=True\n",
    "2. Use lr_find() to find highest learning rate where loss is still clearly improving\n",
    "3. Train last layer from precomputed activations for 1-2 epochs\n",
    "4. Train last layer with data augmentation (i.e. precompute=False) for 2-3 epochs with cycle_len=1\n",
    "5. Unfreeze all layers\n",
    "6. Set earlier layers to 3x-10x lower learning rate than next higher layer\n",
    "7. Use lr_find() again\n",
    "8. Train full network with cycle_mult=2 until over-fitting\n",
    "\n",
    "\n",
    "This is similar to what I've accomplished in the previous notebook, however I would like to check if using explicitly this checklist gives better results."
   ]
  },
  {
   "cell_type": "markdown",
   "metadata": {},
   "source": [
    "### 2.1"
   ]
  },
  {
   "cell_type": "markdown",
   "metadata": {},
   "source": [
    "These are things we want to run before each section, so each time we start with a new network."
   ]
  },
  {
   "cell_type": "code",
   "execution_count": 2,
   "metadata": {},
   "outputs": [],
   "source": [
    "size = 128"
   ]
  },
  {
   "cell_type": "code",
   "execution_count": 3,
   "metadata": {},
   "outputs": [],
   "source": [
    "arch=resnet34"
   ]
  },
  {
   "cell_type": "code",
   "execution_count": 4,
   "metadata": {},
   "outputs": [],
   "source": [
    "tfms = tfms_from_model(resnet34, size, aug_tfms=transforms_top_down, max_zoom=1.1)"
   ]
  },
  {
   "cell_type": "code",
   "execution_count": 5,
   "metadata": {},
   "outputs": [],
   "source": [
    "data = ImageClassifierData.from_paths(PATH, tfms=tfms, test_name='test')\n",
    "learn = ConvLearner.pretrained(arch, data, precompute=True)"
   ]
  },
  {
   "cell_type": "markdown",
   "metadata": {},
   "source": [
    "### 2.2"
   ]
  },
  {
   "cell_type": "code",
   "execution_count": 6,
   "metadata": {},
   "outputs": [
    {
     "data": {
      "application/vnd.jupyter.widget-view+json": {
       "model_id": "9ea87c94d2d74d40aaa76bb6c77cda38",
       "version_major": 2,
       "version_minor": 0
      },
      "text/html": [
       "<p>Failed to display Jupyter Widget of type <code>HBox</code>.</p>\n",
       "<p>\n",
       "  If you're reading this message in the Jupyter Notebook or JupyterLab Notebook, it may mean\n",
       "  that the widgets JavaScript is still loading. If this message persists, it\n",
       "  likely means that the widgets JavaScript library is either not installed or\n",
       "  not enabled. See the <a href=\"https://ipywidgets.readthedocs.io/en/stable/user_install.html\">Jupyter\n",
       "  Widgets Documentation</a> for setup instructions.\n",
       "</p>\n",
       "<p>\n",
       "  If you're reading this message in another frontend (for example, a static\n",
       "  rendering on GitHub or <a href=\"https://nbviewer.jupyter.org/\">NBViewer</a>),\n",
       "  it may mean that your frontend doesn't currently support widgets.\n",
       "</p>\n"
      ],
      "text/plain": [
       "HBox(children=(IntProgress(value=0, description='Epoch', max=1), HTML(value='')))"
      ]
     },
     "metadata": {},
     "output_type": "display_data"
    },
    {
     "name": "stdout",
     "output_type": "stream",
     "text": [
      " 67%|██████▋   | 40/60 [00:01<00:00, 39.17it/s, loss=10.7]\n",
      "                                                          \r"
     ]
    }
   ],
   "source": [
    "lrf=learn.lr_find()"
   ]
  },
  {
   "cell_type": "code",
   "execution_count": 7,
   "metadata": {},
   "outputs": [
    {
     "data": {
      "image/png": "[encoded data removed]",
      "text/plain": [
       "<matplotlib.figure.Figure at 0x7f36c163c6d8>"
      ]
     },
     "metadata": {},
     "output_type": "display_data"
    }
   ],
   "source": [
    "learn.sched.plot()"
   ]
  },
  {
   "cell_type": "markdown",
   "metadata": {},
   "source": [
    "The learning rate I decide to use is 4e-2"
   ]
  },
  {
   "cell_type": "markdown",
   "metadata": {},
   "source": [
    "### 2.3"
   ]
  },
  {
   "cell_type": "code",
   "execution_count": 8,
   "metadata": {},
   "outputs": [
    {
     "data": {
      "application/vnd.jupyter.widget-view+json": {
       "model_id": "aa3b860bc5a141cbbb294713943283b1",
       "version_major": 2,
       "version_minor": 0
      },
      "text/html": [
       "<p>Failed to display Jupyter Widget of type <code>HBox</code>.</p>\n",
       "<p>\n",
       "  If you're reading this message in the Jupyter Notebook or JupyterLab Notebook, it may mean\n",
       "  that the widgets JavaScript is still loading. If this message persists, it\n",
       "  likely means that the widgets JavaScript library is either not installed or\n",
       "  not enabled. See the <a href=\"https://ipywidgets.readthedocs.io/en/stable/user_install.html\">Jupyter\n",
       "  Widgets Documentation</a> for setup instructions.\n",
       "</p>\n",
       "<p>\n",
       "  If you're reading this message in another frontend (for example, a static\n",
       "  rendering on GitHub or <a href=\"https://nbviewer.jupyter.org/\">NBViewer</a>),\n",
       "  it may mean that your frontend doesn't currently support widgets.\n",
       "</p>\n"
      ],
      "text/plain": [
       "HBox(children=(IntProgress(value=0, description='Epoch', max=3), HTML(value='')))"
      ]
     },
     "metadata": {},
     "output_type": "display_data"
    },
    {
     "name": "stdout",
     "output_type": "stream",
     "text": [
      "[0.      1.70199 1.12725 0.61944]                         \n",
      "[1.      1.36553 1.04431 0.66191]                         \n",
      "[2.      1.19268 0.97679 0.67228]                         \n",
      "\n"
     ]
    }
   ],
   "source": [
    "learn.fit(4e-2, 3)"
   ]
  },
  {
   "cell_type": "markdown",
   "metadata": {},
   "source": [
    "### 2.4"
   ]
  },
  {
   "cell_type": "code",
   "execution_count": 8,
   "metadata": {},
   "outputs": [],
   "source": [
    "learn.precompute=False"
   ]
  },
  {
   "cell_type": "code",
   "execution_count": 10,
   "metadata": {},
   "outputs": [
    {
     "data": {
      "application/vnd.jupyter.widget-view+json": {
       "model_id": "41f86a0c80204c10bca8e8482b5d9f79",
       "version_major": 2,
       "version_minor": 0
      },
      "text/html": [
       "<p>Failed to display Jupyter Widget of type <code>HBox</code>.</p>\n",
       "<p>\n",
       "  If you're reading this message in the Jupyter Notebook or JupyterLab Notebook, it may mean\n",
       "  that the widgets JavaScript is still loading. If this message persists, it\n",
       "  likely means that the widgets JavaScript library is either not installed or\n",
       "  not enabled. See the <a href=\"https://ipywidgets.readthedocs.io/en/stable/user_install.html\">Jupyter\n",
       "  Widgets Documentation</a> for setup instructions.\n",
       "</p>\n",
       "<p>\n",
       "  If you're reading this message in another frontend (for example, a static\n",
       "  rendering on GitHub or <a href=\"https://nbviewer.jupyter.org/\">NBViewer</a>),\n",
       "  it may mean that your frontend doesn't currently support widgets.\n",
       "</p>\n"
      ],
      "text/plain": [
       "HBox(children=(IntProgress(value=0, description='Epoch', max=3), HTML(value='')))"
      ]
     },
     "metadata": {},
     "output_type": "display_data"
    },
    {
     "name": "stdout",
     "output_type": "stream",
     "text": [
      "[0.      1.18694 0.86645 0.69524]                         \n",
      "[1.      1.11817 0.82451 0.73015]                         \n",
      "[2.      1.07584 0.77686 0.72937]                         \n",
      "\n"
     ]
    }
   ],
   "source": [
    "learn.fit(4e-2, 3, cycle_len=1)"
   ]
  },
  {
   "cell_type": "markdown",
   "metadata": {},
   "source": [
    "### 2.5"
   ]
  },
  {
   "cell_type": "code",
   "execution_count": 9,
   "metadata": {},
   "outputs": [],
   "source": [
    "learn.unfreeze()"
   ]
  },
  {
   "cell_type": "markdown",
   "metadata": {},
   "source": [
    "### 2.6"
   ]
  },
  {
   "cell_type": "code",
   "execution_count": 12,
   "metadata": {},
   "outputs": [],
   "source": [
    "learning_rate_base = 4e-2\n",
    "lr=np.array([learning_rate_base/9,learning_rate_base/3,learning_rate_base])\n",
    "learn.learning_rate = lr"
   ]
  },
  {
   "cell_type": "markdown",
   "metadata": {},
   "source": [
    "### 2.7"
   ]
  },
  {
   "cell_type": "code",
   "execution_count": 13,
   "metadata": {},
   "outputs": [
    {
     "data": {
      "application/vnd.jupyter.widget-view+json": {
       "model_id": "98cc991d939e402fbc482f0ca4dce447",
       "version_major": 2,
       "version_minor": 0
      },
      "text/html": [
       "<p>Failed to display Jupyter Widget of type <code>HBox</code>.</p>\n",
       "<p>\n",
       "  If you're reading this message in the Jupyter Notebook or JupyterLab Notebook, it may mean\n",
       "  that the widgets JavaScript is still loading. If this message persists, it\n",
       "  likely means that the widgets JavaScript library is either not installed or\n",
       "  not enabled. See the <a href=\"https://ipywidgets.readthedocs.io/en/stable/user_install.html\">Jupyter\n",
       "  Widgets Documentation</a> for setup instructions.\n",
       "</p>\n",
       "<p>\n",
       "  If you're reading this message in another frontend (for example, a static\n",
       "  rendering on GitHub or <a href=\"https://nbviewer.jupyter.org/\">NBViewer</a>),\n",
       "  it may mean that your frontend doesn't currently support widgets.\n",
       "</p>\n"
      ],
      "text/plain": [
       "HBox(children=(IntProgress(value=0, description='Epoch', max=1), HTML(value='')))"
      ]
     },
     "metadata": {},
     "output_type": "display_data"
    },
    {
     "name": "stdout",
     "output_type": "stream",
     "text": [
      " 93%|█████████▎| 56/60 [00:12<00:00,  4.59it/s, loss=8.96]"
     ]
    },
    {
     "data": {
      "image/png": "[encoded data removed]",
      "text/plain": [
       "<matplotlib.figure.Figure at 0x7f363b6c4ef0>"
      ]
     },
     "metadata": {},
     "output_type": "display_data"
    }
   ],
   "source": [
    "lrf=learn.lr_find()\n",
    "learn.sched.plot()"
   ]
  },
  {
   "cell_type": "code",
   "execution_count": 14,
   "metadata": {},
   "outputs": [],
   "source": [
    "learn.save('jeremy_checklist_before_training')"
   ]
  },
  {
   "cell_type": "markdown",
   "metadata": {},
   "source": [
    "### 2.8"
   ]
  },
  {
   "cell_type": "code",
   "execution_count": 12,
   "metadata": {},
   "outputs": [],
   "source": [
    "learn.load('jeremy_checklist_before_training')"
   ]
  },
  {
   "cell_type": "code",
   "execution_count": 13,
   "metadata": {},
   "outputs": [
    {
     "data": {
      "application/vnd.jupyter.widget-view+json": {
       "model_id": "e61b7a92e3fd41fca63f5debf8107e27",
       "version_major": 2,
       "version_minor": 0
      },
      "text/html": [
       "<p>Failed to display Jupyter Widget of type <code>HBox</code>.</p>\n",
       "<p>\n",
       "  If you're reading this message in the Jupyter Notebook or JupyterLab Notebook, it may mean\n",
       "  that the widgets JavaScript is still loading. If this message persists, it\n",
       "  likely means that the widgets JavaScript library is either not installed or\n",
       "  not enabled. See the <a href=\"https://ipywidgets.readthedocs.io/en/stable/user_install.html\">Jupyter\n",
       "  Widgets Documentation</a> for setup instructions.\n",
       "</p>\n",
       "<p>\n",
       "  If you're reading this message in another frontend (for example, a static\n",
       "  rendering on GitHub or <a href=\"https://nbviewer.jupyter.org/\">NBViewer</a>),\n",
       "  it may mean that your frontend doesn't currently support widgets.\n",
       "</p>\n"
      ],
      "text/plain": [
       "HBox(children=(IntProgress(value=0, description='Epoch', max=31), HTML(value='')))"
      ]
     },
     "metadata": {},
     "output_type": "display_data"
    },
    {
     "name": "stdout",
     "output_type": "stream",
     "text": [
      "[0.      0.8715  0.64988 0.77463]                          \n",
      "[1.      0.58486 0.49098 0.82077]                          \n",
      "[2.      0.38358 0.40444 0.86871]                          \n",
      "[3.      0.34014 0.29174 0.89397]                          \n",
      "[4.      0.29005 0.45881 0.85257]                          \n",
      "[5.      0.21204 0.24627 0.90596]                          \n",
      "[6.      0.18026 0.26315 0.90388]                          \n",
      "[7.      0.20416 0.72937 0.77471]                          \n",
      "[8.      0.21897 0.35922 0.87314]                          \n",
      "[9.      0.18646 0.26321 0.90284]                          \n",
      "[10.       0.16052  0.2483   0.91665]                      \n",
      "[11.       0.13321  0.18468  0.93775]                      \n",
      "[12.       0.10932  0.2003   0.93227]                      \n",
      "[13.       0.10576  0.18205  0.93983]                       \n",
      "[14.       0.09091  0.17566  0.94061]                       \n",
      "[15.       0.11429  0.26384  0.91873]                       \n",
      "[16.       0.14039  0.30942  0.9018 ]                      \n",
      "[17.       0.14912  0.44417  0.8518 ]                      \n",
      "[18.       0.1374   0.25632  0.9229 ]                      \n",
      "[19.       0.10538  0.3164   0.90337]                      \n",
      "[20.       0.0963   0.28648  0.9104 ]                       \n",
      "[21.       0.08939  0.2781   0.91691]                       \n",
      "[22.       0.07945  0.25507  0.92524]                       \n",
      "[23.       0.07639  0.2645   0.92343]                       \n",
      "[24.       0.06315  0.22109  0.92968]                       \n",
      "[25.       0.05224  0.20229  0.94009]                       \n",
      "[26.       0.04641  0.22187  0.93801]                       \n",
      "[27.       0.04746  0.20246  0.93697]                       \n",
      "[28.       0.04019  0.21476  0.92864]                       \n",
      "[29.       0.03891  0.20432  0.94009]                       \n",
      "[30.       0.0397   0.20318  0.93489]                       \n",
      "\n"
     ]
    }
   ],
   "source": [
    "learn.fit(1e-2, 5, cycle_len=1, cycle_mult=2)"
   ]
  },
  {
   "cell_type": "markdown",
   "metadata": {},
   "source": [
    "By comparing training and validation loss, we can see that the network started overfitting about 25th epoch."
   ]
  },
  {
   "cell_type": "code",
   "execution_count": 16,
   "metadata": {},
   "outputs": [],
   "source": [
    "learn.save('jeremy_checklist_after_training')"
   ]
  },
  {
   "cell_type": "markdown",
   "metadata": {},
   "source": [
    "### 2.9 -  analysing the results"
   ]
  },
  {
   "cell_type": "code",
   "execution_count": 8,
   "metadata": {},
   "outputs": [],
   "source": [
    "learn.load('jeremy_checklist_after_training')"
   ]
  },
  {
   "cell_type": "code",
   "execution_count": 14,
   "metadata": {},
   "outputs": [
    {
     "name": "stdout",
     "output_type": "stream",
     "text": [
      "                                             \r"
     ]
    }
   ],
   "source": [
    "log_preds,y = learn.TTA()\n",
    "preds = np.argmax(log_preds, axis=1)\n",
    "probs = np.mean(np.exp(log_preds), axis=0)\n",
    "\n",
    "from sklearn.metrics import confusion_matrix\n",
    "cm = confusion_matrix(y, preds)\n",
    "\n"
   ]
  },
  {
   "cell_type": "code",
   "execution_count": 15,
   "metadata": {},
   "outputs": [
    {
     "name": "stdout",
     "output_type": "stream",
     "text": [
      "[[ 34   0   0   0   1   0  17   0   0   0   0   0]\n",
      " [  0  78   0   0   0   0   0   0   0   0   0   0]\n",
      " [  0   0  56   1   0   0   0   0   0   0   0   0]\n",
      " [  0   0   0 122   0   0   0   0   0   0   0   0]\n",
      " [  1   0   0   0  43   0   0   0   0   0   0   0]\n",
      " [  1   0   0   0   1  93   0   0   0   0   0   0]\n",
      " [  5   0   0   0   0   0 125   0   0   0   0   0]\n",
      " [  0   0   0   0   0   0   0  44   0   0   0   0]\n",
      " [  1   0   0   0   0   0   1   0 101   0   0   0]\n",
      " [  0   0   0   0   0   0   0   0   1  45   0   0]\n",
      " [  0   0   0   0   0   0   0   0   0   0  99   0]\n",
      " [  0   1   0   1   1   0   0   0   1   0   0  73]]\n"
     ]
    },
    {
     "data": {
      "image/png": "[encoded data removed]",
      "text/plain": [
       "<matplotlib.figure.Figure at 0x7f1753405f98>"
      ]
     },
     "metadata": {},
     "output_type": "display_data"
    }
   ],
   "source": [
    "plot_confusion_matrix(cm, data.classes)"
   ]
  },
  {
   "cell_type": "markdown",
   "metadata": {},
   "source": [
    "### 2.10 - creating submission file"
   ]
  },
  {
   "cell_type": "code",
   "execution_count": 72,
   "metadata": {},
   "outputs": [
    {
     "name": "stdout",
     "output_type": "stream",
     "text": [
      "                                             \r"
     ]
    },
    {
     "data": {
      "text/html": [
       "<a href='submission_2.csv' target='_blank'>submission_2.csv</a><br>"
      ],
      "text/plain": [
       "/home/paperspace/kaggle_plant_seedlings/submission_2.csv"
      ]
     },
     "execution_count": 72,
     "metadata": {},
     "output_type": "execute_result"
    }
   ],
   "source": [
    "test_log_predictions, _ = learn.TTA(is_test=True)\n",
    "test_predictions = np.argmax(test_log_predictions, axis=1)\n",
    "test_predictions_classes = [data.classes[pred] for pred in test_predictions]\n",
    "test_file_names = learn.data.test_ds.fnames\n",
    "\n",
    "with open('submission.csv', 'w') as the_file:\n",
    "    the_file.write('file,species\\n')\n",
    "    for file_path, prediction in zip(test_file_names, test_predictions_classes):\n",
    "        file_name = file_path.split('/')[-1]\n",
    "        the_file.write(file_name)\n",
    "        the_file.write(\",\")\n",
    "        the_file.write(prediction)\n",
    "        the_file.write(\"\\n\")\n",
    "the_file.close()\n",
    "\n",
    "from IPython.display import FileLink\n",
    "FileLink('submission.csv')"
   ]
  },
  {
   "cell_type": "markdown",
   "metadata": {},
   "source": [
    "Comparing this confusion matrix with the one from the previous notebook, it seems that it works slightly better."
   ]
  },
  {
   "cell_type": "markdown",
   "metadata": {},
   "source": [
    "On Kaggle this solution scored 0.96725, which gave me 200th place out of 580 at the time. \n",
    "However, at the 15th iteration it had higher loss than the one from the previous notebook.\n",
    "I checked it and after increasing number of epochs in the previous notebook, I scored 0.97355 on Kaggle."
   ]
  },
  {
   "cell_type": "markdown",
   "metadata": {},
   "source": [
    "## 3. Ensemble method"
   ]
  },
  {
   "cell_type": "markdown",
   "metadata": {},
   "source": [
    "This is method basen on the following blogpost: https://techburst.io/improving-the-way-we-work-with-learning-rate-5e99554f163b\n"
   ]
  },
  {
   "cell_type": "markdown",
   "metadata": {},
   "source": [
    "Especially this paragraph:\n",
    "\n",
    "It is known that a number of local minimas grows exponentially with a number of parameters. And modern deep neural nets can contain millions of them. Authors show that while most of them have similar error rates, the corresponding neural networks tend to make different mistakes. This diversity can be exploited through ensembling — training several neural network with different initialization. It is not surprising that they will converge to different solutions. Averaging over predictions from these model leads to drastic reductions in error rates.\n",
    "\n",
    "\n",
    "Gao Huang and Yixuan Li were able to get an ensemble of nets at a cost of training a single neural network. They did that by exploiting the fact that at the end of each cycle(at least later ones) neural network can converge to some local minima or be close to it. When ‘restarting’ model will most likely jump over and start converging to the other optima. Gao Huang and Yixuan Li trained their models with SGDR and saved weights after each cycle. They then added M networks to their ensemble based on last M cycles. Their research showed that local minimas, to which model converged, are diverse enough to not overlap on misclassification examples. Using this method resulted in improving error rates even more on state of the art models.\n"
   ]
  },
  {
   "cell_type": "markdown",
   "metadata": {},
   "source": [
    "### 3.1 Setup"
   ]
  },
  {
   "cell_type": "code",
   "execution_count": 51,
   "metadata": {},
   "outputs": [],
   "source": [
    "size = 128"
   ]
  },
  {
   "cell_type": "code",
   "execution_count": 52,
   "metadata": {},
   "outputs": [],
   "source": [
    "arch=resnet34"
   ]
  },
  {
   "cell_type": "code",
   "execution_count": 53,
   "metadata": {},
   "outputs": [],
   "source": [
    "tfms = tfms_from_model(resnet34, size, aug_tfms=transforms_top_down, max_zoom=1.1)"
   ]
  },
  {
   "cell_type": "code",
   "execution_count": 54,
   "metadata": {},
   "outputs": [],
   "source": [
    "data = ImageClassifierData.from_paths(PATH, tfms=tfms, test_name='test')\n",
    "learn = ConvLearner.pretrained(arch, data, precompute=False)"
   ]
  },
  {
   "cell_type": "code",
   "execution_count": 55,
   "metadata": {},
   "outputs": [],
   "source": [
    "learn.unfreeze()"
   ]
  },
  {
   "cell_type": "code",
   "execution_count": 56,
   "metadata": {},
   "outputs": [],
   "source": [
    "# We can use the pre-trained network from the previous point as a starting point\n",
    "learn.load('jeremy_checklist_before_training')"
   ]
  },
  {
   "cell_type": "markdown",
   "metadata": {},
   "source": [
    "## 3.2 Training"
   ]
  },
  {
   "cell_type": "markdown",
   "metadata": {},
   "source": [
    "Since we want to save the networks after each cycle, I decided to implement cycles by hand. "
   ]
  },
  {
   "cell_type": "code",
   "execution_count": 57,
   "metadata": {},
   "outputs": [
    {
     "data": {
      "application/vnd.jupyter.widget-view+json": {
       "model_id": "c3941bda05fb4c04830f0172ddabc959",
       "version_major": 2,
       "version_minor": 0
      },
      "text/html": [
       "<p>Failed to display Jupyter Widget of type <code>HBox</code>.</p>\n",
       "<p>\n",
       "  If you're reading this message in the Jupyter Notebook or JupyterLab Notebook, it may mean\n",
       "  that the widgets JavaScript is still loading. If this message persists, it\n",
       "  likely means that the widgets JavaScript library is either not installed or\n",
       "  not enabled. See the <a href=\"https://ipywidgets.readthedocs.io/en/stable/user_install.html\">Jupyter\n",
       "  Widgets Documentation</a> for setup instructions.\n",
       "</p>\n",
       "<p>\n",
       "  If you're reading this message in another frontend (for example, a static\n",
       "  rendering on GitHub or <a href=\"https://nbviewer.jupyter.org/\">NBViewer</a>),\n",
       "  it may mean that your frontend doesn't currently support widgets.\n",
       "</p>\n"
      ],
      "text/plain": [
       "HBox(children=(IntProgress(value=0, description='Epoch', max=1), HTML(value='')))"
      ]
     },
     "metadata": {},
     "output_type": "display_data"
    },
    {
     "name": "stdout",
     "output_type": "stream",
     "text": [
      "[0.      0.82053 0.48229 0.82155]                          \n",
      "\n"
     ]
    }
   ],
   "source": [
    "learn.fit(1e-2, 1, cycle_len=1)\n",
    "learn.save('after_cycle_1')"
   ]
  },
  {
   "cell_type": "code",
   "execution_count": 58,
   "metadata": {},
   "outputs": [
    {
     "data": {
      "application/vnd.jupyter.widget-view+json": {
       "model_id": "a91bc95e3b6546a78474753281b8c906",
       "version_major": 2,
       "version_minor": 0
      },
      "text/html": [
       "<p>Failed to display Jupyter Widget of type <code>HBox</code>.</p>\n",
       "<p>\n",
       "  If you're reading this message in the Jupyter Notebook or JupyterLab Notebook, it may mean\n",
       "  that the widgets JavaScript is still loading. If this message persists, it\n",
       "  likely means that the widgets JavaScript library is either not installed or\n",
       "  not enabled. See the <a href=\"https://ipywidgets.readthedocs.io/en/stable/user_install.html\">Jupyter\n",
       "  Widgets Documentation</a> for setup instructions.\n",
       "</p>\n",
       "<p>\n",
       "  If you're reading this message in another frontend (for example, a static\n",
       "  rendering on GitHub or <a href=\"https://nbviewer.jupyter.org/\">NBViewer</a>),\n",
       "  it may mean that your frontend doesn't currently support widgets.\n",
       "</p>\n"
      ],
      "text/plain": [
       "HBox(children=(IntProgress(value=0, description='Epoch', max=2), HTML(value='')))"
      ]
     },
     "metadata": {},
     "output_type": "display_data"
    },
    {
     "name": "stdout",
     "output_type": "stream",
     "text": [
      "[0.      0.5119  1.15161 0.62753]                          \n",
      "[1.      0.36    0.36833 0.8643 ]                          \n",
      "\n"
     ]
    }
   ],
   "source": [
    "learn.fit(1e-2, 1, cycle_len=2)\n",
    "learn.save('after_cycle_2')"
   ]
  },
  {
   "cell_type": "code",
   "execution_count": 59,
   "metadata": {},
   "outputs": [
    {
     "data": {
      "application/vnd.jupyter.widget-view+json": {
       "model_id": "06fe6dbbf545480b972ca1f784da12e8",
       "version_major": 2,
       "version_minor": 0
      },
      "text/html": [
       "<p>Failed to display Jupyter Widget of type <code>HBox</code>.</p>\n",
       "<p>\n",
       "  If you're reading this message in the Jupyter Notebook or JupyterLab Notebook, it may mean\n",
       "  that the widgets JavaScript is still loading. If this message persists, it\n",
       "  likely means that the widgets JavaScript library is either not installed or\n",
       "  not enabled. See the <a href=\"https://ipywidgets.readthedocs.io/en/stable/user_install.html\">Jupyter\n",
       "  Widgets Documentation</a> for setup instructions.\n",
       "</p>\n",
       "<p>\n",
       "  If you're reading this message in another frontend (for example, a static\n",
       "  rendering on GitHub or <a href=\"https://nbviewer.jupyter.org/\">NBViewer</a>),\n",
       "  it may mean that your frontend doesn't currently support widgets.\n",
       "</p>\n"
      ],
      "text/plain": [
       "HBox(children=(IntProgress(value=0, description='Epoch', max=4), HTML(value='')))"
      ]
     },
     "metadata": {},
     "output_type": "display_data"
    },
    {
     "name": "stdout",
     "output_type": "stream",
     "text": [
      "[0.      0.31322 0.60516 0.81638]                          \n",
      "[1.      0.29896 0.39444 0.85623]                          \n",
      "[2.      0.21489 0.3087  0.88879]                          \n",
      "[3.      0.18408 0.29246 0.89009]                          \n",
      "\n"
     ]
    }
   ],
   "source": [
    "learn.fit(1e-2, 1, cycle_len=4)\n",
    "learn.save('after_cycle_3')"
   ]
  },
  {
   "cell_type": "code",
   "execution_count": 60,
   "metadata": {},
   "outputs": [
    {
     "data": {
      "application/vnd.jupyter.widget-view+json": {
       "model_id": "dd095c33e5994d9cbb4d266c8994f811",
       "version_major": 2,
       "version_minor": 0
      },
      "text/html": [
       "<p>Failed to display Jupyter Widget of type <code>HBox</code>.</p>\n",
       "<p>\n",
       "  If you're reading this message in the Jupyter Notebook or JupyterLab Notebook, it may mean\n",
       "  that the widgets JavaScript is still loading. If this message persists, it\n",
       "  likely means that the widgets JavaScript library is either not installed or\n",
       "  not enabled. See the <a href=\"https://ipywidgets.readthedocs.io/en/stable/user_install.html\">Jupyter\n",
       "  Widgets Documentation</a> for setup instructions.\n",
       "</p>\n",
       "<p>\n",
       "  If you're reading this message in another frontend (for example, a static\n",
       "  rendering on GitHub or <a href=\"https://nbviewer.jupyter.org/\">NBViewer</a>),\n",
       "  it may mean that your frontend doesn't currently support widgets.\n",
       "</p>\n"
      ],
      "text/plain": [
       "HBox(children=(IntProgress(value=0, description='Epoch', max=8), HTML(value='')))"
      ]
     },
     "metadata": {},
     "output_type": "display_data"
    },
    {
     "name": "stdout",
     "output_type": "stream",
     "text": [
      "[0.      0.20264 0.51546 0.84191]                          \n",
      "[1.      0.22482 0.35308 0.87629]                          \n",
      "[2.      0.20706 0.5885  0.82494]                          \n",
      "[3.      0.17311 0.27427 0.91769]                          \n",
      "[4.      0.13782 0.22084 0.93072]                          \n",
      "[5.      0.1197  0.20209 0.92602]                          \n",
      "[6.      0.09396 0.20929 0.93045]                           \n",
      "[7.      0.09034 0.21746 0.92551]                           \n",
      "\n"
     ]
    }
   ],
   "source": [
    "learn.fit(1e-2, 1, cycle_len=8)\n",
    "learn.save('after_cycle_4')"
   ]
  },
  {
   "cell_type": "code",
   "execution_count": 61,
   "metadata": {},
   "outputs": [
    {
     "data": {
      "application/vnd.jupyter.widget-view+json": {
       "model_id": "7b70615a554a422d8ce25ea5b874b568",
       "version_major": 2,
       "version_minor": 0
      },
      "text/html": [
       "<p>Failed to display Jupyter Widget of type <code>HBox</code>.</p>\n",
       "<p>\n",
       "  If you're reading this message in the Jupyter Notebook or JupyterLab Notebook, it may mean\n",
       "  that the widgets JavaScript is still loading. If this message persists, it\n",
       "  likely means that the widgets JavaScript library is either not installed or\n",
       "  not enabled. See the <a href=\"https://ipywidgets.readthedocs.io/en/stable/user_install.html\">Jupyter\n",
       "  Widgets Documentation</a> for setup instructions.\n",
       "</p>\n",
       "<p>\n",
       "  If you're reading this message in another frontend (for example, a static\n",
       "  rendering on GitHub or <a href=\"https://nbviewer.jupyter.org/\">NBViewer</a>),\n",
       "  it may mean that your frontend doesn't currently support widgets.\n",
       "</p>\n"
      ],
      "text/plain": [
       "HBox(children=(IntProgress(value=0, description='Epoch', max=16), HTML(value='')))"
      ]
     },
     "metadata": {},
     "output_type": "display_data"
    },
    {
     "name": "stdout",
     "output_type": "stream",
     "text": [
      "[0.      0.08978 0.3908  0.87576]                           \n",
      "[1.      0.12899 0.30501 0.90333]                           \n",
      "[2.      0.1655  0.32073 0.89189]                          \n",
      "[3.      0.12156 0.27432 0.90909]                          \n",
      "[4.      0.11254 0.30894 0.90311]                          \n",
      "[5.      0.09924 0.25656 0.92316]                           \n",
      "[6.      0.08113 0.27528 0.90676]                           \n",
      "[7.      0.07931 0.29028 0.9104 ]                           \n",
      "[8.      0.06664 0.22217 0.92837]                           \n",
      "[9.      0.0522  0.24749 0.92759]                           \n",
      "[10.       0.05535  0.19053  0.9367 ]                       \n",
      "[11.       0.05674  0.23057  0.93149]                       \n",
      "[12.       0.04949  0.21407  0.93358]                       \n",
      "[13.       0.03843  0.20955  0.9367 ]                       \n",
      "[14.       0.03784  0.22548  0.93462]                       \n",
      "[15.       0.03446  0.22732  0.9328 ]                       \n",
      "\n"
     ]
    }
   ],
   "source": [
    "learn.fit(1e-2, 1, cycle_len=16)\n",
    "learn.save('after_cycle_5')"
   ]
  },
  {
   "cell_type": "markdown",
   "metadata": {},
   "source": [
    "### 3.3 Making ensemble predictions (validation set)"
   ]
  },
  {
   "cell_type": "markdown",
   "metadata": {},
   "source": [
    "I will use 3 last networks for this ensemble  - afer_cycle_3, 4 and 5."
   ]
  },
  {
   "cell_type": "code",
   "execution_count": 62,
   "metadata": {},
   "outputs": [],
   "source": [
    "tfms = tfms_from_model(resnet34, size, aug_tfms=transforms_top_down, max_zoom=1.1)\n",
    "data = ImageClassifierData.from_paths(PATH, tfms=tfms, test_name='test')\n",
    "learn_3 = ConvLearner.pretrained(arch, data, precompute=False)\n",
    "learn_3.unfreeze()\n",
    "learn_3.load('after_cycle_3')"
   ]
  },
  {
   "cell_type": "code",
   "execution_count": 63,
   "metadata": {},
   "outputs": [],
   "source": [
    "tfms = tfms_from_model(resnet34, size, aug_tfms=transforms_top_down, max_zoom=1.1)\n",
    "data = ImageClassifierData.from_paths(PATH, tfms=tfms, test_name='test')\n",
    "learn_4 = ConvLearner.pretrained(arch, data, precompute=False)\n",
    "learn_4.unfreeze()\n",
    "learn_4.load('after_cycle_4')"
   ]
  },
  {
   "cell_type": "code",
   "execution_count": 64,
   "metadata": {},
   "outputs": [],
   "source": [
    "tfms = tfms_from_model(resnet34, size, aug_tfms=transforms_top_down, max_zoom=1.1)\n",
    "data = ImageClassifierData.from_paths(PATH, tfms=tfms, test_name='test')\n",
    "learn_4 = ConvLearner.pretrained(arch, data, precompute=False)\n",
    "learn_4.unfreeze()\n",
    "learn_4.load('after_cycle_4')"
   ]
  },
  {
   "cell_type": "code",
   "execution_count": 65,
   "metadata": {},
   "outputs": [
    {
     "name": "stdout",
     "output_type": "stream",
     "text": [
      "                                             \r"
     ]
    }
   ],
   "source": [
    "test_log_predictions, y = learn.TTA()\n",
    "test_predictions = np.argmax(test_log_predictions, axis=1)\n",
    "test_predictions_classes = [data.classes[pred] for pred in test_predictions]\n",
    "predictions_3 = test_predictions"
   ]
  },
  {
   "cell_type": "code",
   "execution_count": 66,
   "metadata": {},
   "outputs": [
    {
     "name": "stdout",
     "output_type": "stream",
     "text": [
      "                                             \r"
     ]
    }
   ],
   "source": [
    "test_log_predictions, y = learn.TTA()\n",
    "test_predictions = np.argmax(test_log_predictions, axis=1)\n",
    "test_predictions_classes = [data.classes[pred] for pred in test_predictions]\n",
    "predictions_4 = test_predictions"
   ]
  },
  {
   "cell_type": "code",
   "execution_count": 67,
   "metadata": {},
   "outputs": [
    {
     "name": "stdout",
     "output_type": "stream",
     "text": [
      "                                             \r"
     ]
    }
   ],
   "source": [
    "test_log_predictions, y = learn.TTA()\n",
    "test_predictions = np.argmax(test_log_predictions, axis=1)\n",
    "test_predictions_classes = [data.classes[pred] for pred in test_predictions]\n",
    "predictions_5 = test_predictions"
   ]
  },
  {
   "cell_type": "code",
   "execution_count": 70,
   "metadata": {},
   "outputs": [],
   "source": [
    "final_predictions = []\n",
    "for prediction_3, prediction_4, prediction_5 in zip(predictions_3, predictions_4, predictions_5):\n",
    "    current_predictions = [prediction_3, prediction_4, prediction_5]\n",
    "    if len(set(current_predictions)) == 3:\n",
    "        pred = prediction_5\n",
    "    else:\n",
    "        pred = max(set(current_predictions), key=current_predictions.count)\n",
    "        \n",
    "    final_predictions.append(pred)"
   ]
  },
  {
   "cell_type": "code",
   "execution_count": 71,
   "metadata": {},
   "outputs": [
    {
     "name": "stdout",
     "output_type": "stream",
     "text": [
      "[[ 37   0   0   0   1   0  14   0   0   0   0   0]\n",
      " [  0  78   0   0   0   0   0   0   0   0   0   0]\n",
      " [  0   0  56   1   0   0   0   0   0   0   0   0]\n",
      " [  0   0   0 122   0   0   0   0   0   0   0   0]\n",
      " [  1   0   0   0  43   0   0   0   0   0   0   0]\n",
      " [  0   0   0   0   0  95   0   0   0   0   0   0]\n",
      " [  8   0   0   0   0   0 122   0   0   0   0   0]\n",
      " [  0   0   0   0   0   0   0  44   0   0   0   0]\n",
      " [  1   0   0   1   0   0   1   0 100   0   0   0]\n",
      " [  0   0   0   0   0   0   0   0   1  45   0   0]\n",
      " [  0   0   0   0   0   0   0   0   0   0  99   0]\n",
      " [  0   0   0   1   0   0   0   1   0   0   0  75]]\n"
     ]
    },
    {
     "data": {
      "image/png": "[encoded data removed]",
      "text/plain": [
       "<matplotlib.figure.Figure at 0x7fe56012a9b0>"
      ]
     },
     "metadata": {},
     "output_type": "display_data"
    }
   ],
   "source": [
    "from sklearn.metrics import confusion_matrix\n",
    "cm = confusion_matrix(y, final_predictions)\n",
    "\n",
    "plot_confusion_matrix(cm, data.classes)"
   ]
  },
  {
   "cell_type": "markdown",
   "metadata": {},
   "source": [
    "### 3.4. Making ensemble predictions (test data)"
   ]
  },
  {
   "cell_type": "code",
   "execution_count": 73,
   "metadata": {},
   "outputs": [],
   "source": [
    "tfms = tfms_from_model(resnet34, size, aug_tfms=transforms_top_down, max_zoom=1.1)\n",
    "data = ImageClassifierData.from_paths(PATH, tfms=tfms, test_name='test')\n",
    "learn_3 = ConvLearner.pretrained(arch, data, precompute=False)\n",
    "learn_3.unfreeze()\n",
    "learn_3.load('after_cycle_3')"
   ]
  },
  {
   "cell_type": "code",
   "execution_count": 74,
   "metadata": {},
   "outputs": [],
   "source": [
    "tfms = tfms_from_model(resnet34, size, aug_tfms=transforms_top_down, max_zoom=1.1)\n",
    "data = ImageClassifierData.from_paths(PATH, tfms=tfms, test_name='test')\n",
    "learn_4 = ConvLearner.pretrained(arch, data, precompute=False)\n",
    "learn_4.unfreeze()\n",
    "learn_4.load('after_cycle_4')"
   ]
  },
  {
   "cell_type": "code",
   "execution_count": 75,
   "metadata": {},
   "outputs": [],
   "source": [
    "tfms = tfms_from_model(resnet34, size, aug_tfms=transforms_top_down, max_zoom=1.1)\n",
    "data = ImageClassifierData.from_paths(PATH, tfms=tfms, test_name='test')\n",
    "learn_4 = ConvLearner.pretrained(arch, data, precompute=False)\n",
    "learn_4.unfreeze()\n",
    "learn_4.load('after_cycle_4')"
   ]
  },
  {
   "cell_type": "code",
   "execution_count": 76,
   "metadata": {},
   "outputs": [
    {
     "name": "stdout",
     "output_type": "stream",
     "text": [
      "                                             \r"
     ]
    }
   ],
   "source": [
    "test_log_predictions, y = learn.TTA(is_test=True)\n",
    "test_predictions = np.argmax(test_log_predictions, axis=1)\n",
    "test_predictions_classes = [data.classes[pred] for pred in test_predictions]\n",
    "predictions_3 = test_predictions"
   ]
  },
  {
   "cell_type": "code",
   "execution_count": 77,
   "metadata": {},
   "outputs": [
    {
     "name": "stdout",
     "output_type": "stream",
     "text": [
      "                                             \r"
     ]
    }
   ],
   "source": [
    "test_log_predictions, y = learn.TTA(is_test=True)\n",
    "test_predictions = np.argmax(test_log_predictions, axis=1)\n",
    "test_predictions_classes = [data.classes[pred] for pred in test_predictions]\n",
    "predictions_4 = test_predictions"
   ]
  },
  {
   "cell_type": "code",
   "execution_count": 78,
   "metadata": {},
   "outputs": [
    {
     "name": "stdout",
     "output_type": "stream",
     "text": [
      "                                             \r"
     ]
    }
   ],
   "source": [
    "test_log_predictions, y = learn.TTA(is_test=True)\n",
    "test_predictions = np.argmax(test_log_predictions, axis=1)\n",
    "test_predictions_classes = [data.classes[pred] for pred in test_predictions]\n",
    "predictions_5 = test_predictions"
   ]
  },
  {
   "cell_type": "code",
   "execution_count": 79,
   "metadata": {},
   "outputs": [],
   "source": [
    "final_predictions = []\n",
    "for prediction_3, prediction_4, prediction_5 in zip(predictions_3, predictions_4, predictions_5):\n",
    "    current_predictions = [prediction_3, prediction_4, prediction_5]\n",
    "    if len(set(current_predictions)) == 3:\n",
    "        pred = prediction_5\n",
    "    else:\n",
    "        pred = max(set(current_predictions), key=current_predictions.count)\n",
    "        \n",
    "    final_predictions.append(pred)\n",
    "\n",
    "final_predictions_classes = [data.classes[pred] for pred in final_predictions]"
   ]
  },
  {
   "cell_type": "code",
   "execution_count": 80,
   "metadata": {},
   "outputs": [
    {
     "data": {
      "text/html": [
       "<a href='submission.csv' target='_blank'>submission.csv</a><br>"
      ],
      "text/plain": [
       "/home/paperspace/kaggle_plant_seedlings/submission.csv"
      ]
     },
     "execution_count": 80,
     "metadata": {},
     "output_type": "execute_result"
    }
   ],
   "source": [
    "test_file_names = learn.data.test_ds.fnames\n",
    "\n",
    "with open('submission.csv', 'w') as the_file:\n",
    "    the_file.write('file,species\\n')\n",
    "    for file_path, prediction in zip(test_file_names, final_predictions_classes):\n",
    "        file_name = file_path.split('/')[-1]\n",
    "        the_file.write(file_name)\n",
    "        the_file.write(\",\")\n",
    "        the_file.write(prediction)\n",
    "        the_file.write(\"\\n\")\n",
    "the_file.close()\n",
    "\n",
    "from IPython.display import FileLink\n",
    "FileLink('submission.csv')\n"
   ]
  },
  {
   "cell_type": "markdown",
   "metadata": {},
   "source": [
    "After submitting this results to the competition I scored 0.96095, which is slightly better than my first submission, but worse than all others. "
   ]
  },
  {
   "cell_type": "markdown",
   "metadata": {},
   "source": []
  }
 ],
 "metadata": {
  "kernelspec": {
   "display_name": "Python 3",
   "language": "python",
   "name": "python3"
  },
  "language_info": {
   "codemirror_mode": {
    "name": "ipython",
    "version": 3
   },
   "file_extension": ".py",
   "mimetype": "text/x-python",
   "name": "python",
   "nbconvert_exporter": "python",
   "pygments_lexer": "ipython3",
   "version": "3.6.4"
  }
 },
 "nbformat": 4,
 "nbformat_minor": 2
}
